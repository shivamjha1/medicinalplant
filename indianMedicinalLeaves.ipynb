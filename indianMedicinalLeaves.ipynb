{
 "cells": [
  {
   "cell_type": "code",
   "execution_count": 2,
   "id": "fcedfc88-cf47-4d79-8296-2c4a1a4cb420",
   "metadata": {},
   "outputs": [],
   "source": [
    "import tensorflow as tf"
   ]
  },
  {
   "cell_type": "code",
   "execution_count": 3,
   "id": "c462898a-3d78-4dc4-8f62-8a5fe0a60df8",
   "metadata": {},
   "outputs": [
    {
     "name": "stdout",
     "output_type": "stream",
     "text": [
      "Found 6900 files belonging to 80 classes.\n"
     ]
    },
    {
     "data": {
      "text/plain": [
       "['Aloevera',\n",
       " 'Amla',\n",
       " 'Amruthaballi',\n",
       " 'Arali',\n",
       " 'Astma_weed',\n",
       " 'Badipala',\n",
       " 'Balloon_Vine',\n",
       " 'Bamboo',\n",
       " 'Beans',\n",
       " 'Betel',\n",
       " 'Bhrami',\n",
       " 'Bringaraja',\n",
       " 'Caricature',\n",
       " 'Castor',\n",
       " 'Catharanthus',\n",
       " 'Chakte',\n",
       " 'Chilly',\n",
       " 'Citron lime (herelikai)',\n",
       " 'Coffee',\n",
       " 'Common rue(naagdalli)',\n",
       " 'Coriender',\n",
       " 'Curry',\n",
       " 'Doddpathre',\n",
       " 'Drumstick',\n",
       " 'Ekka',\n",
       " 'Eucalyptus',\n",
       " 'Ganigale',\n",
       " 'Ganike',\n",
       " 'Gasagase',\n",
       " 'Ginger',\n",
       " 'Globe Amarnath',\n",
       " 'Guava',\n",
       " 'Henna',\n",
       " 'Hibiscus',\n",
       " 'Honge',\n",
       " 'Insulin',\n",
       " 'Jackfruit',\n",
       " 'Jasmine',\n",
       " 'Kambajala',\n",
       " 'Kasambruga',\n",
       " 'Kohlrabi',\n",
       " 'Lantana',\n",
       " 'Lemon',\n",
       " 'Lemongrass',\n",
       " 'Malabar_Nut',\n",
       " 'Malabar_Spinach',\n",
       " 'Mango',\n",
       " 'Marigold',\n",
       " 'Mint',\n",
       " 'Neem',\n",
       " 'Nelavembu',\n",
       " 'Nerale',\n",
       " 'Nooni',\n",
       " 'Onion',\n",
       " 'Padri',\n",
       " 'Palak(Spinach)',\n",
       " 'Papaya',\n",
       " 'Parijatha',\n",
       " 'Pea',\n",
       " 'Pepper',\n",
       " 'Pomoegranate',\n",
       " 'Pumpkin',\n",
       " 'Raddish',\n",
       " 'Rose',\n",
       " 'Sampige',\n",
       " 'Sapota',\n",
       " 'Seethaashoka',\n",
       " 'Seethapala',\n",
       " 'Spinach1',\n",
       " 'Tamarind',\n",
       " 'Taro',\n",
       " 'Tecoma',\n",
       " 'Thumbe',\n",
       " 'Tomato',\n",
       " 'Tulsi',\n",
       " 'Turmeric',\n",
       " 'ashoka',\n",
       " 'camphor',\n",
       " 'kamakasturi',\n",
       " 'kepala']"
      ]
     },
     "execution_count": 3,
     "metadata": {},
     "output_type": "execute_result"
    }
   ],
   "source": [
    "data = data = tf.keras.preprocessing.image_dataset_from_directory(\"C:\\\\Users\\\\shiva\\\\Music\\\\Indian Medicinal Leaves Image Datasets\\\\Medicinal Leaf dataset\", shuffle=True,\n",
    "    batch_size=32,\n",
    "    image_size=(299, 299)\n",
    ")\n",
    "label=data.class_names\n",
    "label"
   ]
  },
  {
   "cell_type": "code",
   "execution_count": 4,
   "id": "b2b1f27b-b252-4b01-a9f7-a0c42b6af923",
   "metadata": {},
   "outputs": [
    {
     "name": "stdout",
     "output_type": "stream",
     "text": [
      "(32, 299, 299, 3)\n",
      "[31 49 51 37 18 42 22  4 21  9 55 53 76 47 41 67 78 22 20 63 61 11 10 11\n",
      " 45 14 50 24 24 10 77 69]\n"
     ]
    }
   ],
   "source": [
    "import numpy as np\n",
    "\n",
    "for image_batch, labels_batch in data.take(1):\n",
    "    print(image_batch.shape)\n",
    "    print(labels_batch.numpy())\n",
    "    break"
   ]
  },
  {
   "cell_type": "code",
   "execution_count": 5,
   "id": "e9614bb1-0aa6-465a-883a-b61a8051d05c",
   "metadata": {},
   "outputs": [
    {
     "data": {
      "text/plain": [
       "(172, 43)"
      ]
     },
     "execution_count": 5,
     "metadata": {},
     "output_type": "execute_result"
    }
   ],
   "source": [
    "# train test split\n",
    "train_size = int(0.8 * len(data))\n",
    "test_size = int(0.2 * len(data))\n",
    "train_size, test_size"
   ]
  },
  {
   "cell_type": "markdown",
   "id": "0e8709e5-99a4-42ae-8c8d-ed6bd849b818",
   "metadata": {},
   "source": [
    "Training the model"
   ]
  },
  {
   "cell_type": "code",
   "execution_count": 6,
   "id": "471c5983-1d29-4eea-bba8-55f4c83e668f",
   "metadata": {},
   "outputs": [],
   "source": [
    "def get_dataset_partisions_tf(ds, train_split=0.8, test_split=0.2, shuffle=True, shuffle_size=10000):\n",
    "    if shuffle:\n",
    "        ds = ds.shuffle(shuffle_size, seed=12)\n",
    "    train_size = int(train_split * len(ds))\n",
    "    test_size = int(test_split * len(ds))\n",
    "    train_ds = ds.take(train_size)\n",
    "    test_ds = ds.skip(train_size)\n",
    "    val_ds = test_ds.skip(test_size)\n",
    "    test_ds = test_ds.take(test_size)\n",
    "    return train_ds, test_ds, val_ds"
   ]
  },
  {
   "cell_type": "code",
   "execution_count": 7,
   "id": "9c50a776-9e8c-42c1-9e23-441dcd39d2a7",
   "metadata": {},
   "outputs": [
    {
     "data": {
      "text/plain": [
       "(172, 43, 1)"
      ]
     },
     "execution_count": 7,
     "metadata": {},
     "output_type": "execute_result"
    }
   ],
   "source": [
    "train_ds, test_ds, val_ds = get_dataset_partisions_tf(data)\n",
    "len(train_ds), len(test_ds), len(val_ds)"
   ]
  },
  {
   "cell_type": "markdown",
   "id": "a3a36195-f594-46bf-b1f5-7ef4980d0462",
   "metadata": {},
   "source": [
    "Resize and Normalize"
   ]
  },
  {
   "cell_type": "code",
   "execution_count": 8,
   "id": "9f4be92c-85c4-4b46-8aed-c6a8cbb0385d",
   "metadata": {},
   "outputs": [
    {
     "name": "stdout",
     "output_type": "stream",
     "text": [
      "WARNING:tensorflow:From C:\\Users\\shiva\\AppData\\Local\\Programs\\Python\\Python311\\Lib\\site-packages\\keras\\src\\backend.py:873: The name tf.get_default_graph is deprecated. Please use tf.compat.v1.get_default_graph instead.\n",
      "\n"
     ]
    }
   ],
   "source": [
    "resize_and_rescale = tf.keras.Sequential([\n",
    "    tf.keras.layers.experimental.preprocessing.Resizing(299, 299),\n",
    "    tf.keras.layers.experimental.preprocessing.Rescaling(1./255)\n",
    "])"
   ]
  },
  {
   "cell_type": "markdown",
   "id": "968cbcdc-d1d5-480c-8b07-c29dcb026455",
   "metadata": {},
   "source": [
    "Xecption Model"
   ]
  },
  {
   "cell_type": "code",
   "execution_count": 9,
   "id": "719b2d16-7d56-438c-ad0b-6d783f6135e0",
   "metadata": {},
   "outputs": [],
   "source": [
    "# train using Xception\n",
    "base_model = tf.keras.applications.InceptionV3(\n",
    "    weights='imagenet',\n",
    "    input_shape=(299, 299, 3),\n",
    "    include_top=False,\n",
    "    pooling='avg',\n",
    "    classifier_activation='softmax',\n",
    "    classes=len(label)\n",
    ")"
   ]
  },
  {
   "cell_type": "code",
   "execution_count": 10,
   "id": "8f8be5e9-fbf6-4be8-befe-f6a9667b5f77",
   "metadata": {},
   "outputs": [
    {
     "name": "stdout",
     "output_type": "stream",
     "text": [
      "WARNING:tensorflow:From C:\\Users\\shiva\\AppData\\Local\\Programs\\Python\\Python311\\Lib\\site-packages\\keras\\src\\optimizers\\__init__.py:309: The name tf.train.Optimizer is deprecated. Please use tf.compat.v1.train.Optimizer instead.\n",
      "\n",
      "Model: \"model\"\n",
      "_________________________________________________________________\n",
      " Layer (type)                Output Shape              Param #   \n",
      "=================================================================\n",
      " input_3 (InputLayer)        [(None, 299, 299, 3)]     0         \n",
      "                                                                 \n",
      " sequential (Sequential)     (None, 299, 299, 3)       0         \n",
      "                                                                 \n",
      " inception_v3 (Functional)   (None, 2048)              21802784  \n",
      "                                                                 \n",
      " dense (Dense)               (None, 128)               262272    \n",
      "                                                                 \n",
      " dropout (Dropout)           (None, 128)               0         \n",
      "                                                                 \n",
      " dense_1 (Dense)             (None, 80)                10320     \n",
      "                                                                 \n",
      "=================================================================\n",
      "Total params: 22075376 (84.21 MB)\n",
      "Trainable params: 272592 (1.04 MB)\n",
      "Non-trainable params: 21802784 (83.17 MB)\n",
      "_________________________________________________________________\n",
      "Epoch 1/20\n",
      "WARNING:tensorflow:From C:\\Users\\shiva\\AppData\\Local\\Programs\\Python\\Python311\\Lib\\site-packages\\keras\\src\\utils\\tf_utils.py:492: The name tf.ragged.RaggedTensorValue is deprecated. Please use tf.compat.v1.ragged.RaggedTensorValue instead.\n",
      "\n",
      "WARNING:tensorflow:From C:\\Users\\shiva\\AppData\\Local\\Programs\\Python\\Python311\\Lib\\site-packages\\keras\\src\\engine\\base_layer_utils.py:384: The name tf.executing_eagerly_outside_functions is deprecated. Please use tf.compat.v1.executing_eagerly_outside_functions instead.\n",
      "\n",
      "172/172 [==============================] - 259s 1s/step - loss: 3.9293 - accuracy: 0.1069 - val_loss: 3.0830 - val_accuracy: 0.3125\n",
      "Epoch 2/20\n",
      "172/172 [==============================] - 236s 1s/step - loss: 2.9159 - accuracy: 0.2862 - val_loss: 2.2713 - val_accuracy: 0.4688\n",
      "Epoch 3/20\n",
      "172/172 [==============================] - 229s 1s/step - loss: 2.3495 - accuracy: 0.3953 - val_loss: 1.6940 - val_accuracy: 0.6250\n",
      "Epoch 4/20\n",
      "172/172 [==============================] - 220s 1s/step - loss: 1.9882 - accuracy: 0.4845 - val_loss: 1.3571 - val_accuracy: 0.7500\n",
      "Epoch 5/20\n",
      "172/172 [==============================] - 226s 1s/step - loss: 1.7710 - accuracy: 0.5191 - val_loss: 1.1450 - val_accuracy: 0.8125\n",
      "Epoch 6/20\n",
      "172/172 [==============================] - 222s 1s/step - loss: 1.5963 - accuracy: 0.5621 - val_loss: 1.1677 - val_accuracy: 0.7188\n",
      "Epoch 7/20\n",
      "172/172 [==============================] - 222s 1s/step - loss: 1.4567 - accuracy: 0.5938 - val_loss: 0.9454 - val_accuracy: 0.7500\n",
      "Epoch 8/20\n",
      "172/172 [==============================] - 223s 1s/step - loss: 1.3299 - accuracy: 0.6304 - val_loss: 0.5831 - val_accuracy: 0.8438\n",
      "Epoch 9/20\n",
      "172/172 [==============================] - 224s 1s/step - loss: 1.2448 - accuracy: 0.6535 - val_loss: 0.9292 - val_accuracy: 0.7188\n",
      "Epoch 10/20\n",
      "172/172 [==============================] - 223s 1s/step - loss: 1.1419 - accuracy: 0.6773 - val_loss: 0.5453 - val_accuracy: 0.9688\n",
      "Epoch 11/20\n",
      "172/172 [==============================] - 224s 1s/step - loss: 1.0913 - accuracy: 0.6919 - val_loss: 0.5721 - val_accuracy: 0.8438\n",
      "Epoch 12/20\n",
      "172/172 [==============================] - 223s 1s/step - loss: 1.0451 - accuracy: 0.6968 - val_loss: 0.9031 - val_accuracy: 0.7188\n",
      "Epoch 13/20\n",
      "172/172 [==============================] - 224s 1s/step - loss: 0.9838 - accuracy: 0.7200 - val_loss: 0.3649 - val_accuracy: 0.9375\n",
      "Epoch 14/20\n",
      "172/172 [==============================] - 223s 1s/step - loss: 0.9401 - accuracy: 0.7251 - val_loss: 0.5976 - val_accuracy: 0.8750\n",
      "Epoch 15/20\n",
      "172/172 [==============================] - 224s 1s/step - loss: 0.8999 - accuracy: 0.7371 - val_loss: 0.3337 - val_accuracy: 0.9688\n",
      "Epoch 16/20\n",
      "172/172 [==============================] - 224s 1s/step - loss: 0.8801 - accuracy: 0.7507 - val_loss: 0.3920 - val_accuracy: 0.9688\n",
      "Epoch 17/20\n",
      "172/172 [==============================] - 224s 1s/step - loss: 0.8219 - accuracy: 0.7617 - val_loss: 0.4403 - val_accuracy: 0.9375\n",
      "Epoch 18/20\n",
      "172/172 [==============================] - 223s 1s/step - loss: 0.7938 - accuracy: 0.7640 - val_loss: 0.2663 - val_accuracy: 0.9375\n",
      "Epoch 19/20\n",
      "172/172 [==============================] - 227s 1s/step - loss: 0.7615 - accuracy: 0.7748 - val_loss: 0.4395 - val_accuracy: 0.9375\n",
      "Epoch 20/20\n",
      "172/172 [==============================] - 220s 1s/step - loss: 0.7353 - accuracy: 0.7831 - val_loss: 0.3707 - val_accuracy: 0.9062\n"
     ]
    }
   ],
   "source": [
    "base_model.trainable = False\n",
    "\n",
    "inputs = tf.keras.Input(shape=(299, 299, 3))\n",
    "x = resize_and_rescale(inputs)\n",
    "x = base_model(x, training=False)\n",
    "x = tf.keras.layers.Dense(128, activation='relu')(x)\n",
    "x = tf.keras.layers.Dropout(0.2)(x)\n",
    "outputs = tf.keras.layers.Dense(len(label), activation='softmax')(x)\n",
    "model = tf.keras.Model(inputs, outputs)\n",
    "\n",
    "model.compile(\n",
    "    optimizer='adam',\n",
    "    loss='sparse_categorical_crossentropy',\n",
    "    metrics=['accuracy']\n",
    ")\n",
    "\n",
    "model.summary()\n",
    "\n",
    "history = model.fit(\n",
    "    train_ds,\n",
    "    validation_data=val_ds,\n",
    "    batch_size=32,\n",
    "    epochs=20\n",
    ")"
   ]
  },
  {
   "cell_type": "code",
   "execution_count": 11,
   "id": "6be50d6a-139d-4b64-b69f-9bf830a260c3",
   "metadata": {},
   "outputs": [
    {
     "name": "stdout",
     "output_type": "stream",
     "text": [
      "43/43 [==============================] - 73s 836ms/step - loss: 0.3307 - accuracy: 0.9448\n"
     ]
    },
    {
     "data": {
      "text/plain": [
       "[0.33065271377563477, 0.944767415523529]"
      ]
     },
     "execution_count": 11,
     "metadata": {},
     "output_type": "execute_result"
    }
   ],
   "source": [
    "model.evaluate(test_ds)\n"
   ]
  },
  {
   "cell_type": "code",
   "execution_count": 12,
   "id": "c0d8c2ac-a5be-4be3-933c-99c510c13834",
   "metadata": {},
   "outputs": [
    {
     "data": {
      "image/png": "[encoded data removed]",
      "text/plain": [
       "<Figure size 640x480 with 1 Axes>"
      ]
     },
     "metadata": {},
     "output_type": "display_data"
    }
   ],
   "source": [
    "# plot accuracy and loss\n",
    "import matplotlib.pyplot as plt\n",
    "\n",
    "plt.plot(history.history['accuracy'])\n",
    "plt.plot(history.history['val_accuracy'])\n",
    "\n",
    "plt.title('model accuracy')\n",
    "plt.ylabel('accuracy')\n",
    "plt.xlabel('epoch')\n",
    "plt.legend(['train', 'val'], loc='upper left')\n",
    "plt.show()\n"
   ]
  },
  {
   "cell_type": "code",
   "execution_count": 14,
   "id": "65d3d088-180e-4be9-9b80-f41a38b1b670",
   "metadata": {},
   "outputs": [],
   "source": [
    "model.save('medicinalleaves.h5')"
   ]
  },
  {
   "cell_type": "code",
   "execution_count": 10,
   "id": "8c3f9ce8-4367-4c27-9fdb-effbaa60ca68",
   "metadata": {},
   "outputs": [],
   "source": [
    "# train using Xception\n",
    "base_model = tf.keras.applications.InceptionV3(\n",
    "    weights='imagenet',\n",
    "    input_shape=(299, 299, 3),\n",
    "    include_top=False,\n",
    "    pooling='avg',\n",
    "    classifier_activation='softmax',\n",
    "    classes=len(label)\n",
    ")"
   ]
  },
  {
   "cell_type": "code",
   "execution_count": 11,
   "id": "1b0c0dd1-6fde-469d-af96-fab13cb13c95",
   "metadata": {},
   "outputs": [
    {
     "name": "stdout",
     "output_type": "stream",
     "text": [
      "WARNING:tensorflow:From C:\\Users\\shiva\\AppData\\Local\\Programs\\Python\\Python311\\Lib\\site-packages\\keras\\src\\optimizers\\__init__.py:309: The name tf.train.Optimizer is deprecated. Please use tf.compat.v1.train.Optimizer instead.\n",
      "\n",
      "Model: \"model\"\n",
      "_________________________________________________________________\n",
      " Layer (type)                Output Shape              Param #   \n",
      "=================================================================\n",
      " input_3 (InputLayer)        [(None, 299, 299, 3)]     0         \n",
      "                                                                 \n",
      " sequential (Sequential)     (None, 299, 299, 3)       0         \n",
      "                                                                 \n",
      " inception_v3 (Functional)   (None, 2048)              21802784  \n",
      "                                                                 \n",
      " dense (Dense)               (None, 128)               262272    \n",
      "                                                                 \n",
      " dropout (Dropout)           (None, 128)               0         \n",
      "                                                                 \n",
      " dense_1 (Dense)             (None, 80)                10320     \n",
      "                                                                 \n",
      "=================================================================\n",
      "Total params: 22075376 (84.21 MB)\n",
      "Trainable params: 272592 (1.04 MB)\n",
      "Non-trainable params: 21802784 (83.17 MB)\n",
      "_________________________________________________________________\n",
      "Epoch 1/30\n",
      "WARNING:tensorflow:From C:\\Users\\shiva\\AppData\\Local\\Programs\\Python\\Python311\\Lib\\site-packages\\keras\\src\\utils\\tf_utils.py:492: The name tf.ragged.RaggedTensorValue is deprecated. Please use tf.compat.v1.ragged.RaggedTensorValue instead.\n",
      "\n",
      "WARNING:tensorflow:From C:\\Users\\shiva\\AppData\\Local\\Programs\\Python\\Python311\\Lib\\site-packages\\keras\\src\\engine\\base_layer_utils.py:384: The name tf.executing_eagerly_outside_functions is deprecated. Please use tf.compat.v1.executing_eagerly_outside_functions instead.\n",
      "\n",
      "172/172 [==============================] - 230s 1s/step - loss: 3.6819 - accuracy: 0.1497 - val_loss: 2.2900 - val_accuracy: 0.4062\n",
      "Epoch 2/30\n",
      "172/172 [==============================] - 225s 1s/step - loss: 2.4002 - accuracy: 0.3982 - val_loss: 1.7763 - val_accuracy: 0.5000\n",
      "Epoch 3/30\n",
      "172/172 [==============================] - 223s 1s/step - loss: 1.7964 - accuracy: 0.5271 - val_loss: 1.1785 - val_accuracy: 0.7500\n",
      "Epoch 4/30\n",
      "172/172 [==============================] - 221s 1s/step - loss: 1.4540 - accuracy: 0.6169 - val_loss: 0.8153 - val_accuracy: 0.8438\n",
      "Epoch 5/30\n",
      "172/172 [==============================] - 223s 1s/step - loss: 1.2164 - accuracy: 0.6713 - val_loss: 0.6698 - val_accuracy: 0.8125\n",
      "Epoch 6/30\n",
      "172/172 [==============================] - 220s 1s/step - loss: 1.0404 - accuracy: 0.7101 - val_loss: 0.4074 - val_accuracy: 0.9688\n",
      "Epoch 7/30\n",
      "172/172 [==============================] - 224s 1s/step - loss: 0.9020 - accuracy: 0.7511 - val_loss: 0.3928 - val_accuracy: 0.9375\n",
      "Epoch 8/30\n",
      "172/172 [==============================] - 221s 1s/step - loss: 0.8043 - accuracy: 0.7784 - val_loss: 0.3920 - val_accuracy: 0.9688\n",
      "Epoch 9/30\n",
      "172/172 [==============================] - 221s 1s/step - loss: 0.7118 - accuracy: 0.8092 - val_loss: 0.4149 - val_accuracy: 0.9062\n",
      "Epoch 10/30\n",
      "172/172 [==============================] - 220s 1s/step - loss: 0.6627 - accuracy: 0.8112 - val_loss: 0.2717 - val_accuracy: 0.9375\n",
      "Epoch 11/30\n",
      "172/172 [==============================] - 221s 1s/step - loss: 0.5827 - accuracy: 0.8349 - val_loss: 0.3293 - val_accuracy: 0.9062\n",
      "Epoch 12/30\n",
      "172/172 [==============================] - 221s 1s/step - loss: 0.5150 - accuracy: 0.8563 - val_loss: 0.3124 - val_accuracy: 0.9062\n",
      "Epoch 13/30\n",
      "172/172 [==============================] - 219s 1s/step - loss: 0.5016 - accuracy: 0.8569 - val_loss: 0.2024 - val_accuracy: 0.9688\n",
      "Epoch 14/30\n",
      "172/172 [==============================] - 224s 1s/step - loss: 0.4431 - accuracy: 0.8829 - val_loss: 0.1523 - val_accuracy: 1.0000\n",
      "Epoch 15/30\n",
      "172/172 [==============================] - 220s 1s/step - loss: 0.4243 - accuracy: 0.8806 - val_loss: 0.2055 - val_accuracy: 0.9375\n",
      "Epoch 16/30\n",
      "172/172 [==============================] - 220s 1s/step - loss: 0.3924 - accuracy: 0.8911 - val_loss: 0.1134 - val_accuracy: 1.0000\n",
      "Epoch 17/30\n",
      "172/172 [==============================] - 219s 1s/step - loss: 0.3788 - accuracy: 0.8884 - val_loss: 0.1028 - val_accuracy: 1.0000\n",
      "Epoch 18/30\n",
      "172/172 [==============================] - 220s 1s/step - loss: 0.3568 - accuracy: 0.8975 - val_loss: 0.1597 - val_accuracy: 0.9375\n",
      "Epoch 19/30\n",
      "172/172 [==============================] - 220s 1s/step - loss: 0.3152 - accuracy: 0.9079 - val_loss: 0.0719 - val_accuracy: 1.0000\n",
      "Epoch 20/30\n",
      "172/172 [==============================] - 220s 1s/step - loss: 0.3233 - accuracy: 0.9077 - val_loss: 0.1063 - val_accuracy: 1.0000\n",
      "Epoch 21/30\n",
      "172/172 [==============================] - 218s 1s/step - loss: 0.2821 - accuracy: 0.9208 - val_loss: 0.1419 - val_accuracy: 0.9688\n",
      "Epoch 22/30\n",
      "172/172 [==============================] - 218s 1s/step - loss: 0.2826 - accuracy: 0.9202 - val_loss: 0.1076 - val_accuracy: 1.0000\n",
      "Epoch 23/30\n",
      "172/172 [==============================] - 218s 1s/step - loss: 0.2644 - accuracy: 0.9241 - val_loss: 0.1091 - val_accuracy: 1.0000\n",
      "Epoch 24/30\n",
      "172/172 [==============================] - 220s 1s/step - loss: 0.2645 - accuracy: 0.9248 - val_loss: 0.0659 - val_accuracy: 1.0000\n",
      "Epoch 25/30\n",
      "172/172 [==============================] - 224s 1s/step - loss: 0.2313 - accuracy: 0.9377 - val_loss: 0.0397 - val_accuracy: 1.0000\n",
      "Epoch 26/30\n",
      "172/172 [==============================] - 227s 1s/step - loss: 0.2377 - accuracy: 0.9281 - val_loss: 0.0743 - val_accuracy: 1.0000\n",
      "Epoch 27/30\n",
      "172/172 [==============================] - 228s 1s/step - loss: 0.2163 - accuracy: 0.9380 - val_loss: 0.0252 - val_accuracy: 1.0000\n",
      "Epoch 28/30\n",
      "172/172 [==============================] - 226s 1s/step - loss: 0.2067 - accuracy: 0.9410 - val_loss: 0.0523 - val_accuracy: 1.0000\n",
      "Epoch 29/30\n",
      "172/172 [==============================] - 226s 1s/step - loss: 0.2051 - accuracy: 0.9410 - val_loss: 0.0867 - val_accuracy: 1.0000\n",
      "Epoch 30/30\n",
      "172/172 [==============================] - 229s 1s/step - loss: 0.1812 - accuracy: 0.9510 - val_loss: 0.0363 - val_accuracy: 1.0000\n"
     ]
    }
   ],
   "source": [
    "base_model.trainable = False\n",
    "\n",
    "inputs = tf.keras.Input(shape=(299, 299, 3))\n",
    "x = resize_and_rescale(inputs)\n",
    "x = base_model(x, training=False)\n",
    "x = tf.keras.layers.Dense(128, activation='relu')(x)\n",
    "x = tf.keras.layers.Dropout(0.2)(x)\n",
    "outputs = tf.keras.layers.Dense(len(label), activation='softmax')(x)\n",
    "model = tf.keras.Model(inputs, outputs)\n",
    "\n",
    "model.compile(\n",
    "    optimizer='adam',\n",
    "    loss='sparse_categorical_crossentropy',\n",
    "    metrics=['accuracy']\n",
    ")\n",
    "\n",
    "model.summary()\n",
    "\n",
    "history = model.fit(\n",
    "    train_ds,\n",
    "    validation_data=val_ds,\n",
    "    batch_size=32,\n",
    "    epochs=30\n",
    ")"
   ]
  },
  {
   "cell_type": "code",
   "execution_count": 12,
   "id": "e1179ac8-becc-42ab-a5c4-7c4616e0144a",
   "metadata": {},
   "outputs": [
    {
     "name": "stdout",
     "output_type": "stream",
     "text": [
      "43/43 [==============================] - 75s 843ms/step - loss: 0.0463 - accuracy: 0.9941\n"
     ]
    },
    {
     "data": {
      "text/plain": [
       "[0.046311281621456146, 0.9941349029541016]"
      ]
     },
     "execution_count": 12,
     "metadata": {},
     "output_type": "execute_result"
    }
   ],
   "source": [
    "model.evaluate(test_ds)"
   ]
  },
  {
   "cell_type": "code",
   "execution_count": 14,
   "id": "2d03e4f6-d0b6-4b78-8d93-bebcddf927a1",
   "metadata": {},
   "outputs": [
    {
     "data": {
      "image/png": "[encoded data removed]",
      "text/plain": [
       "<Figure size 640x480 with 1 Axes>"
      ]
     },
     "metadata": {},
     "output_type": "display_data"
    }
   ],
   "source": [
    "# plot accuracy and loss\n",
    "import matplotlib.pyplot as plt\n",
    "\n",
    "plt.plot(history.history['accuracy'])\n",
    "plt.plot(history.history['val_accuracy'])\n",
    "\n",
    "plt.title('model accuracy')\n",
    "plt.ylabel('accuracy')\n",
    "plt.xlabel('epoch')\n",
    "plt.legend(['train', 'val'], loc='upper left')\n",
    "plt.show()"
   ]
  },
  {
   "cell_type": "code",
   "execution_count": 16,
   "id": "3140e5b1-1a11-4a24-b79a-3f706b1fa11a",
   "metadata": {},
   "outputs": [],
   "source": [
    "model.save('medicinalleaves2.h5')"
   ]
  },
  {
   "cell_type": "code",
   "execution_count": null,
   "id": "a61b1696-37db-42ba-a5d1-842a02a1c164",
   "metadata": {},
   "outputs": [],
   "source": []
  }
 ],
 "metadata": {
  "kernelspec": {
   "display_name": "Python 3 (ipykernel)",
   "language": "python",
   "name": "python3"
  },
  "language_info": {
   "codemirror_mode": {
    "name": "ipython",
    "version": 3
   },
   "file_extension": ".py",
   "mimetype": "text/x-python",
   "name": "python",
   "nbconvert_exporter": "python",
   "pygments_lexer": "ipython3",
   "version": "3.11.7"
  }
 },
 "nbformat": 4,
 "nbformat_minor": 5
}
